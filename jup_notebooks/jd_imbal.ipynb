{
 "cells": [
  {
   "cell_type": "code",
   "execution_count": 23,
   "metadata": {
    "collapsed": true
   },
   "outputs": [],
   "source": [
    "import pandas as pd\n",
    "from sklearn.utils import resample\n",
    "\n",
    "\n",
    "df = pd.read_excel('/Users/justindiemmanuele/Documents/MS/CS640/640_final_project/data/data.xlsx',index_col=0) # Change as needed for individual runs\n",
    "balanced_df = pd.DataFrame()"
   ]
  },
  {
   "cell_type": "code",
   "execution_count": 24,
   "outputs": [
    {
     "data": {
      "text/plain": "      imageID                                        article_url  \\\nindex                                                              \n0       10057  http://beta.latimes.com/nation/la-na-paddock-c...   \n1       10073  https://www.yahoo.com/news/florida-shooter-tro...   \n2       10107  http://www.chicagotribune.com/suburbs/lake-cou...   \n3       10112  http://www.chicagotribune.com/suburbs/post-tri...   \n4       10156  http://www.cnn.com/2018/02/16/us/exclusive-sch...   \n...       ...                                                ...   \n1295   110439  http://www.latimes.com/entertainment/la-et-ent...   \n1296   110466  https://www.foxnews.com/politics/missouri-lawm...   \n1297   110472  http://ph.news.yahoo.com/rosanne-cash-californ...   \n1298   110490  https://abcnews.go.com/US/mass-shootings-incre...   \n1299   110495  http://ca.news.yahoo.com/apos-learn-history-ap...   \n\n                                                headline  \\\nindex                                                      \n0      Cremated remains of Las Vegas mass shooter to ...   \n1      Florida shooter a troubled loner with white su...   \n2      Vernon Hills teen accused of wearing white sup...   \n3      Griffith student charged with accidentally bri...   \n4      Exclusive: Group chat messages show school sho...   \n...                                                  ...   \n1295   The CMA Awards open with a moment of silence f...   \n1296   Missouri lawmaker takes on federal law barring...   \n1297   Rosanne Cash on California Shootings: ‘We Use ...   \n1298   Mass shootings 'increasing'and pose'most serio...   \n1299   We have to learn from history : Sex therapist ...   \n\n                                                    body  \\\nindex                                                      \n0      \"Cremated remains of Las Vegas mass shooter to...   \n1      Parkland (Etats-Unis) (AFP) - Nikolas Cruz was...   \n2      Zak had been the subject of a CLC campus threa...   \n3      \"The members of our staff have been trained on...   \n4      (CNN) In a private Instagram group chat, confe...   \n...                                                  ...   \n1295   \"Politics Birthdays Clear all' data-number-sto...   \n1296   A Missouri state representative has vowed to p...   \n1297   Rosanne Cash, who has been frequently outspoke...   \n1298   Mass shootings 'increasing' and pose 'most ser...   \n1299   We have to learn from history': Sex therapist ...   \n\n      google_visual_api_web_entities_detection_on_lead_image  \\\nindex                                                          \n0      Stephen Paddock 2017 Las Vegas Strip shooting ...       \n1      Nikolas Cruz Stoneman Douglas High School shoo...       \n2      Vernon Hills FOID  Firearm Ammunition White su...       \n3      Arrest Student Expulsion School Felony Ada Cou...       \n4      Nikolas Cruz Stoneman Douglas High School shoo...       \n...                                                  ...       \n1295   Garth Brooks Trisha Yearwood 52nd Annual Count...       \n1296   Cannabis Cannabis shop Legalization Legality o...       \n1297   Rosanne Cash Acoustic guitar Rock concert Sing...       \n1298   Thousand Oaks shooting Borderline Bar & Grill ...       \n1299   Ruth Westheimer Sex therapy   Pittsburgh synag...       \n\n           automatically_generated_caption_of_lead_image  \\\nindex                                                      \n0      Eric Paddock, center, with his brother Eric Pa...   \n1             A photograph of the suspect, Nikolas Cruz.   \n2      Zak, who is charged with carrying a gun, is ch...   \n3      A student was charged with carrying a gun in a...   \n4      A photo from a Facebook page of the school sho...   \n...                                                  ...   \n1295   The CMA Awards’s host, Trisha Yearwood, was sh...   \n1296                A marijuana dispensary in St. Louis.   \n1297                               Rosanne Cash in 2015.   \n1298   A gunman at the scene of the shooting at a cou...   \n1299   Dr. Ruth Westheimer, a sex therapist, said she...   \n\n           lead_3_sentences_summary_of_full_article_text  \\\nindex                                                      \n0      \"Cremated remains of Las Vegas mass shooter to...   \n1      Parkland (Etats-Unis) (AFP) - Nikolas Cruz was...   \n2      Zak had been the subject of a CLC campus threa...   \n3      \"The members of our staff have been trained on...   \n4      (CNN) In a private Instagram group chat, confe...   \n...                                                  ...   \n1295   \"Politics Birthdays Clear all' data-number-sto...   \n1296   A Missouri state representative has vowed to p...   \n1297   Rosanne Cash, who has been frequently outspoke...   \n1298   Mass shootings 'increasing' and pose 'most ser...   \n1299   We have to learn from history': Sex therapist ...   \n\n                     presum_summary_of_full_article_text  Q1 Relevant  \\\nindex                                                                   \n0      \"cremated remains of las vegas mass shooter to...            1   \n1      nikolas cruz was expelled from school after be...            1   \n2      zak had been the subject of a clc campus threa...            1   \n3      \"the members of our staff have been trained on...            1   \n4      the fbi is investigating a private chat group ...            1   \n...                                                  ...          ...   \n1295   in september, ex-cop garth brooks and trisha y...            1   \n1296   missouri state rep. nick schroer has vowed to ...            1   \n1297   in an interview with the atlantic, you use you...            1   \n1298   at least 59 people have been killed as a resul...            1   \n1299   dr. ruth westheimer : we have to learn from hi...            1   \n\n       Q2 Focus  Q3 Theme1  Q3 Theme2  V1image  V2ethnicity  V3relevance  \\\nindex                                                                      \n0             2          7         99        1            0            0   \n1             1          4          6        1            0            1   \n2             1          6         99        1            0            0   \n3             1          5         99        1            0            0   \n4             1          4          6        1            0            1   \n...         ...        ...        ...      ...          ...          ...   \n1295          2          7         99       16            0            0   \n1296          2          2         99       16            0            0   \n1297          2          1         99       16            0            0   \n1298          2          5         99       16            0            0   \n1299          2          6         99       16            0            0   \n\n       V4relevance  Q4 Image1  Q4 Image2  \nindex                                     \n0             99.0          6         99  \n1              0.0          7          0  \n2             99.0          0         99  \n3             99.0          0         99  \n4              0.0          8          0  \n...            ...        ...        ...  \n1295          99.0          0         99  \n1296          99.0          0         99  \n1297          99.0          0         99  \n1298          99.0          0         99  \n1299          99.0          0         99  \n\n[1300 rows x 18 columns]",
      "text/html": "<div>\n<style scoped>\n    .dataframe tbody tr th:only-of-type {\n        vertical-align: middle;\n    }\n\n    .dataframe tbody tr th {\n        vertical-align: top;\n    }\n\n    .dataframe thead th {\n        text-align: right;\n    }\n</style>\n<table border=\"1\" class=\"dataframe\">\n  <thead>\n    <tr style=\"text-align: right;\">\n      <th></th>\n      <th>imageID</th>\n      <th>article_url</th>\n      <th>headline</th>\n      <th>body</th>\n      <th>google_visual_api_web_entities_detection_on_lead_image</th>\n      <th>automatically_generated_caption_of_lead_image</th>\n      <th>lead_3_sentences_summary_of_full_article_text</th>\n      <th>presum_summary_of_full_article_text</th>\n      <th>Q1 Relevant</th>\n      <th>Q2 Focus</th>\n      <th>Q3 Theme1</th>\n      <th>Q3 Theme2</th>\n      <th>V1image</th>\n      <th>V2ethnicity</th>\n      <th>V3relevance</th>\n      <th>V4relevance</th>\n      <th>Q4 Image1</th>\n      <th>Q4 Image2</th>\n    </tr>\n    <tr>\n      <th>index</th>\n      <th></th>\n      <th></th>\n      <th></th>\n      <th></th>\n      <th></th>\n      <th></th>\n      <th></th>\n      <th></th>\n      <th></th>\n      <th></th>\n      <th></th>\n      <th></th>\n      <th></th>\n      <th></th>\n      <th></th>\n      <th></th>\n      <th></th>\n      <th></th>\n    </tr>\n  </thead>\n  <tbody>\n    <tr>\n      <th>0</th>\n      <td>10057</td>\n      <td>http://beta.latimes.com/nation/la-na-paddock-c...</td>\n      <td>Cremated remains of Las Vegas mass shooter to ...</td>\n      <td>\"Cremated remains of Las Vegas mass shooter to...</td>\n      <td>Stephen Paddock 2017 Las Vegas Strip shooting ...</td>\n      <td>Eric Paddock, center, with his brother Eric Pa...</td>\n      <td>\"Cremated remains of Las Vegas mass shooter to...</td>\n      <td>\"cremated remains of las vegas mass shooter to...</td>\n      <td>1</td>\n      <td>2</td>\n      <td>7</td>\n      <td>99</td>\n      <td>1</td>\n      <td>0</td>\n      <td>0</td>\n      <td>99.0</td>\n      <td>6</td>\n      <td>99</td>\n    </tr>\n    <tr>\n      <th>1</th>\n      <td>10073</td>\n      <td>https://www.yahoo.com/news/florida-shooter-tro...</td>\n      <td>Florida shooter a troubled loner with white su...</td>\n      <td>Parkland (Etats-Unis) (AFP) - Nikolas Cruz was...</td>\n      <td>Nikolas Cruz Stoneman Douglas High School shoo...</td>\n      <td>A photograph of the suspect, Nikolas Cruz.</td>\n      <td>Parkland (Etats-Unis) (AFP) - Nikolas Cruz was...</td>\n      <td>nikolas cruz was expelled from school after be...</td>\n      <td>1</td>\n      <td>1</td>\n      <td>4</td>\n      <td>6</td>\n      <td>1</td>\n      <td>0</td>\n      <td>1</td>\n      <td>0.0</td>\n      <td>7</td>\n      <td>0</td>\n    </tr>\n    <tr>\n      <th>2</th>\n      <td>10107</td>\n      <td>http://www.chicagotribune.com/suburbs/lake-cou...</td>\n      <td>Vernon Hills teen accused of wearing white sup...</td>\n      <td>Zak had been the subject of a CLC campus threa...</td>\n      <td>Vernon Hills FOID  Firearm Ammunition White su...</td>\n      <td>Zak, who is charged with carrying a gun, is ch...</td>\n      <td>Zak had been the subject of a CLC campus threa...</td>\n      <td>zak had been the subject of a clc campus threa...</td>\n      <td>1</td>\n      <td>1</td>\n      <td>6</td>\n      <td>99</td>\n      <td>1</td>\n      <td>0</td>\n      <td>0</td>\n      <td>99.0</td>\n      <td>0</td>\n      <td>99</td>\n    </tr>\n    <tr>\n      <th>3</th>\n      <td>10112</td>\n      <td>http://www.chicagotribune.com/suburbs/post-tri...</td>\n      <td>Griffith student charged with accidentally bri...</td>\n      <td>\"The members of our staff have been trained on...</td>\n      <td>Arrest Student Expulsion School Felony Ada Cou...</td>\n      <td>A student was charged with carrying a gun in a...</td>\n      <td>\"The members of our staff have been trained on...</td>\n      <td>\"the members of our staff have been trained on...</td>\n      <td>1</td>\n      <td>1</td>\n      <td>5</td>\n      <td>99</td>\n      <td>1</td>\n      <td>0</td>\n      <td>0</td>\n      <td>99.0</td>\n      <td>0</td>\n      <td>99</td>\n    </tr>\n    <tr>\n      <th>4</th>\n      <td>10156</td>\n      <td>http://www.cnn.com/2018/02/16/us/exclusive-sch...</td>\n      <td>Exclusive: Group chat messages show school sho...</td>\n      <td>(CNN) In a private Instagram group chat, confe...</td>\n      <td>Nikolas Cruz Stoneman Douglas High School shoo...</td>\n      <td>A photo from a Facebook page of the school sho...</td>\n      <td>(CNN) In a private Instagram group chat, confe...</td>\n      <td>the fbi is investigating a private chat group ...</td>\n      <td>1</td>\n      <td>1</td>\n      <td>4</td>\n      <td>6</td>\n      <td>1</td>\n      <td>0</td>\n      <td>1</td>\n      <td>0.0</td>\n      <td>8</td>\n      <td>0</td>\n    </tr>\n    <tr>\n      <th>...</th>\n      <td>...</td>\n      <td>...</td>\n      <td>...</td>\n      <td>...</td>\n      <td>...</td>\n      <td>...</td>\n      <td>...</td>\n      <td>...</td>\n      <td>...</td>\n      <td>...</td>\n      <td>...</td>\n      <td>...</td>\n      <td>...</td>\n      <td>...</td>\n      <td>...</td>\n      <td>...</td>\n      <td>...</td>\n      <td>...</td>\n    </tr>\n    <tr>\n      <th>1295</th>\n      <td>110439</td>\n      <td>http://www.latimes.com/entertainment/la-et-ent...</td>\n      <td>The CMA Awards open with a moment of silence f...</td>\n      <td>\"Politics Birthdays Clear all' data-number-sto...</td>\n      <td>Garth Brooks Trisha Yearwood 52nd Annual Count...</td>\n      <td>The CMA Awards’s host, Trisha Yearwood, was sh...</td>\n      <td>\"Politics Birthdays Clear all' data-number-sto...</td>\n      <td>in september, ex-cop garth brooks and trisha y...</td>\n      <td>1</td>\n      <td>2</td>\n      <td>7</td>\n      <td>99</td>\n      <td>16</td>\n      <td>0</td>\n      <td>0</td>\n      <td>99.0</td>\n      <td>0</td>\n      <td>99</td>\n    </tr>\n    <tr>\n      <th>1296</th>\n      <td>110466</td>\n      <td>https://www.foxnews.com/politics/missouri-lawm...</td>\n      <td>Missouri lawmaker takes on federal law barring...</td>\n      <td>A Missouri state representative has vowed to p...</td>\n      <td>Cannabis Cannabis shop Legalization Legality o...</td>\n      <td>A marijuana dispensary in St. Louis.</td>\n      <td>A Missouri state representative has vowed to p...</td>\n      <td>missouri state rep. nick schroer has vowed to ...</td>\n      <td>1</td>\n      <td>2</td>\n      <td>2</td>\n      <td>99</td>\n      <td>16</td>\n      <td>0</td>\n      <td>0</td>\n      <td>99.0</td>\n      <td>0</td>\n      <td>99</td>\n    </tr>\n    <tr>\n      <th>1297</th>\n      <td>110472</td>\n      <td>http://ph.news.yahoo.com/rosanne-cash-californ...</td>\n      <td>Rosanne Cash on California Shootings: ‘We Use ...</td>\n      <td>Rosanne Cash, who has been frequently outspoke...</td>\n      <td>Rosanne Cash Acoustic guitar Rock concert Sing...</td>\n      <td>Rosanne Cash in 2015.</td>\n      <td>Rosanne Cash, who has been frequently outspoke...</td>\n      <td>in an interview with the atlantic, you use you...</td>\n      <td>1</td>\n      <td>2</td>\n      <td>1</td>\n      <td>99</td>\n      <td>16</td>\n      <td>0</td>\n      <td>0</td>\n      <td>99.0</td>\n      <td>0</td>\n      <td>99</td>\n    </tr>\n    <tr>\n      <th>1298</th>\n      <td>110490</td>\n      <td>https://abcnews.go.com/US/mass-shootings-incre...</td>\n      <td>Mass shootings 'increasing'and pose'most serio...</td>\n      <td>Mass shootings 'increasing' and pose 'most ser...</td>\n      <td>Thousand Oaks shooting Borderline Bar &amp; Grill ...</td>\n      <td>A gunman at the scene of the shooting at a cou...</td>\n      <td>Mass shootings 'increasing' and pose 'most ser...</td>\n      <td>at least 59 people have been killed as a resul...</td>\n      <td>1</td>\n      <td>2</td>\n      <td>5</td>\n      <td>99</td>\n      <td>16</td>\n      <td>0</td>\n      <td>0</td>\n      <td>99.0</td>\n      <td>0</td>\n      <td>99</td>\n    </tr>\n    <tr>\n      <th>1299</th>\n      <td>110495</td>\n      <td>http://ca.news.yahoo.com/apos-learn-history-ap...</td>\n      <td>We have to learn from history : Sex therapist ...</td>\n      <td>We have to learn from history': Sex therapist ...</td>\n      <td>Ruth Westheimer Sex therapy   Pittsburgh synag...</td>\n      <td>Dr. Ruth Westheimer, a sex therapist, said she...</td>\n      <td>We have to learn from history': Sex therapist ...</td>\n      <td>dr. ruth westheimer : we have to learn from hi...</td>\n      <td>1</td>\n      <td>2</td>\n      <td>6</td>\n      <td>99</td>\n      <td>16</td>\n      <td>0</td>\n      <td>0</td>\n      <td>99.0</td>\n      <td>0</td>\n      <td>99</td>\n    </tr>\n  </tbody>\n</table>\n<p>1300 rows × 18 columns</p>\n</div>"
     },
     "execution_count": 24,
     "metadata": {},
     "output_type": "execute_result"
    }
   ],
   "source": [
    "df"
   ],
   "metadata": {
    "collapsed": false,
    "pycharm": {
     "name": "#%%\n"
    }
   }
  },
  {
   "cell_type": "code",
   "execution_count": 25,
   "outputs": [
    {
     "name": "stdout",
     "output_type": "stream",
     "text": [
      "373\n",
      "3\n"
     ]
    }
   ],
   "source": [
    "max_count = df.groupby(\"Q3 Theme1\").count()['imageID'].max()\n",
    "print(max_count)\n",
    "max_label = df.index[df.groupby(\"Q3 Theme1\").count()['imageID'].idxmax()]\n",
    "print(max_label)"
   ],
   "metadata": {
    "collapsed": false,
    "pycharm": {
     "name": "#%%\n"
    }
   }
  },
  {
   "cell_type": "code",
   "execution_count": 26,
   "outputs": [
    {
     "data": {
      "text/plain": "Q3 Theme1\n1     38\n2    215\n3    373\n4     65\n5    137\n6    114\n7    237\n8     41\n9     80\nName: imageID, dtype: int64"
     },
     "execution_count": 26,
     "metadata": {},
     "output_type": "execute_result"
    }
   ],
   "source": [
    "df.groupby(\"Q3 Theme1\").count()['imageID']"
   ],
   "metadata": {
    "collapsed": false,
    "pycharm": {
     "name": "#%%\n"
    }
   }
  },
  {
   "cell_type": "code",
   "execution_count": 27,
   "outputs": [
    {
     "name": "stdout",
     "output_type": "stream",
     "text": [
      "group: 1, Replace: True\n",
      "group: 2, Replace: True\n",
      "group: 3, Replace: False\n",
      "group: 4, Replace: True\n",
      "group: 5, Replace: True\n",
      "group: 6, Replace: True\n",
      "group: 7, Replace: True\n",
      "group: 8, Replace: True\n",
      "group: 9, Replace: True\n"
     ]
    },
    {
     "data": {
      "text/plain": "           imageID  article_url  headline  body  \\\nQ3 Theme1                                         \n1              373          373       373   373   \n2              373          373       373   373   \n3              373          373       373   373   \n4              373          373       373   373   \n5              373          373       373   373   \n6              373          373       373   373   \n7              373          373       373   373   \n8              373          373       373   373   \n9              373          373       373   373   \n\n           google_visual_api_web_entities_detection_on_lead_image  \\\nQ3 Theme1                                                           \n1                                                        373        \n2                                                        373        \n3                                                        373        \n4                                                        373        \n5                                                        373        \n6                                                        373        \n7                                                        365        \n8                                                        373        \n9                                                        373        \n\n           automatically_generated_caption_of_lead_image  \\\nQ3 Theme1                                                  \n1                                                    373   \n2                                                    373   \n3                                                    373   \n4                                                    373   \n5                                                    373   \n6                                                    373   \n7                                                    373   \n8                                                    373   \n9                                                    373   \n\n           lead_3_sentences_summary_of_full_article_text  \\\nQ3 Theme1                                                  \n1                                                    373   \n2                                                    373   \n3                                                    372   \n4                                                    373   \n5                                                    373   \n6                                                    373   \n7                                                    373   \n8                                                    373   \n9                                                    373   \n\n           presum_summary_of_full_article_text  Q1 Relevant  Q2 Focus  \\\nQ3 Theme1                                                               \n1                                          373          373       373   \n2                                          373          373       373   \n3                                          372          373       373   \n4                                          373          373       373   \n5                                          373          373       373   \n6                                          373          373       373   \n7                                          373          373       373   \n8                                          373          373       373   \n9                                          373          373       373   \n\n           Q3 Theme2  V1image  V2ethnicity  V3relevance  V4relevance  \\\nQ3 Theme1                                                              \n1                373      373          373          373          373   \n2                373      373          373          373          366   \n3                373      373          373          373          373   \n4                373      373          373          373          373   \n5                373      373          373          373          373   \n6                373      373          373          373          373   \n7                373      373          373          373          373   \n8                373      373          373          373          373   \n9                373      373          373          373          373   \n\n           Q4 Image1  Q4 Image2  \nQ3 Theme1                        \n1                373        373  \n2                373        373  \n3                373        373  \n4                373        373  \n5                373        373  \n6                373        373  \n7                373        373  \n8                373        373  \n9                373        373  ",
      "text/html": "<div>\n<style scoped>\n    .dataframe tbody tr th:only-of-type {\n        vertical-align: middle;\n    }\n\n    .dataframe tbody tr th {\n        vertical-align: top;\n    }\n\n    .dataframe thead th {\n        text-align: right;\n    }\n</style>\n<table border=\"1\" class=\"dataframe\">\n  <thead>\n    <tr style=\"text-align: right;\">\n      <th></th>\n      <th>imageID</th>\n      <th>article_url</th>\n      <th>headline</th>\n      <th>body</th>\n      <th>google_visual_api_web_entities_detection_on_lead_image</th>\n      <th>automatically_generated_caption_of_lead_image</th>\n      <th>lead_3_sentences_summary_of_full_article_text</th>\n      <th>presum_summary_of_full_article_text</th>\n      <th>Q1 Relevant</th>\n      <th>Q2 Focus</th>\n      <th>Q3 Theme2</th>\n      <th>V1image</th>\n      <th>V2ethnicity</th>\n      <th>V3relevance</th>\n      <th>V4relevance</th>\n      <th>Q4 Image1</th>\n      <th>Q4 Image2</th>\n    </tr>\n    <tr>\n      <th>Q3 Theme1</th>\n      <th></th>\n      <th></th>\n      <th></th>\n      <th></th>\n      <th></th>\n      <th></th>\n      <th></th>\n      <th></th>\n      <th></th>\n      <th></th>\n      <th></th>\n      <th></th>\n      <th></th>\n      <th></th>\n      <th></th>\n      <th></th>\n      <th></th>\n    </tr>\n  </thead>\n  <tbody>\n    <tr>\n      <th>1</th>\n      <td>373</td>\n      <td>373</td>\n      <td>373</td>\n      <td>373</td>\n      <td>373</td>\n      <td>373</td>\n      <td>373</td>\n      <td>373</td>\n      <td>373</td>\n      <td>373</td>\n      <td>373</td>\n      <td>373</td>\n      <td>373</td>\n      <td>373</td>\n      <td>373</td>\n      <td>373</td>\n      <td>373</td>\n    </tr>\n    <tr>\n      <th>2</th>\n      <td>373</td>\n      <td>373</td>\n      <td>373</td>\n      <td>373</td>\n      <td>373</td>\n      <td>373</td>\n      <td>373</td>\n      <td>373</td>\n      <td>373</td>\n      <td>373</td>\n      <td>373</td>\n      <td>373</td>\n      <td>373</td>\n      <td>373</td>\n      <td>366</td>\n      <td>373</td>\n      <td>373</td>\n    </tr>\n    <tr>\n      <th>3</th>\n      <td>373</td>\n      <td>373</td>\n      <td>373</td>\n      <td>373</td>\n      <td>373</td>\n      <td>373</td>\n      <td>372</td>\n      <td>372</td>\n      <td>373</td>\n      <td>373</td>\n      <td>373</td>\n      <td>373</td>\n      <td>373</td>\n      <td>373</td>\n      <td>373</td>\n      <td>373</td>\n      <td>373</td>\n    </tr>\n    <tr>\n      <th>4</th>\n      <td>373</td>\n      <td>373</td>\n      <td>373</td>\n      <td>373</td>\n      <td>373</td>\n      <td>373</td>\n      <td>373</td>\n      <td>373</td>\n      <td>373</td>\n      <td>373</td>\n      <td>373</td>\n      <td>373</td>\n      <td>373</td>\n      <td>373</td>\n      <td>373</td>\n      <td>373</td>\n      <td>373</td>\n    </tr>\n    <tr>\n      <th>5</th>\n      <td>373</td>\n      <td>373</td>\n      <td>373</td>\n      <td>373</td>\n      <td>373</td>\n      <td>373</td>\n      <td>373</td>\n      <td>373</td>\n      <td>373</td>\n      <td>373</td>\n      <td>373</td>\n      <td>373</td>\n      <td>373</td>\n      <td>373</td>\n      <td>373</td>\n      <td>373</td>\n      <td>373</td>\n    </tr>\n    <tr>\n      <th>6</th>\n      <td>373</td>\n      <td>373</td>\n      <td>373</td>\n      <td>373</td>\n      <td>373</td>\n      <td>373</td>\n      <td>373</td>\n      <td>373</td>\n      <td>373</td>\n      <td>373</td>\n      <td>373</td>\n      <td>373</td>\n      <td>373</td>\n      <td>373</td>\n      <td>373</td>\n      <td>373</td>\n      <td>373</td>\n    </tr>\n    <tr>\n      <th>7</th>\n      <td>373</td>\n      <td>373</td>\n      <td>373</td>\n      <td>373</td>\n      <td>365</td>\n      <td>373</td>\n      <td>373</td>\n      <td>373</td>\n      <td>373</td>\n      <td>373</td>\n      <td>373</td>\n      <td>373</td>\n      <td>373</td>\n      <td>373</td>\n      <td>373</td>\n      <td>373</td>\n      <td>373</td>\n    </tr>\n    <tr>\n      <th>8</th>\n      <td>373</td>\n      <td>373</td>\n      <td>373</td>\n      <td>373</td>\n      <td>373</td>\n      <td>373</td>\n      <td>373</td>\n      <td>373</td>\n      <td>373</td>\n      <td>373</td>\n      <td>373</td>\n      <td>373</td>\n      <td>373</td>\n      <td>373</td>\n      <td>373</td>\n      <td>373</td>\n      <td>373</td>\n    </tr>\n    <tr>\n      <th>9</th>\n      <td>373</td>\n      <td>373</td>\n      <td>373</td>\n      <td>373</td>\n      <td>373</td>\n      <td>373</td>\n      <td>373</td>\n      <td>373</td>\n      <td>373</td>\n      <td>373</td>\n      <td>373</td>\n      <td>373</td>\n      <td>373</td>\n      <td>373</td>\n      <td>373</td>\n      <td>373</td>\n      <td>373</td>\n    </tr>\n  </tbody>\n</table>\n</div>"
     },
     "execution_count": 27,
     "metadata": {},
     "output_type": "execute_result"
    }
   ],
   "source": [
    "for group, sub_df in df.groupby(\"Q3 Theme1\"):\n",
    "    replace = False if group == max_label else True\n",
    "    print(f\"group: {group}, Replace: {replace}\")\n",
    "    temp_df = resample(sub_df, replace=replace, n_samples=max_count)\n",
    "    balanced_df = pd.concat([balanced_df, temp_df])\n",
    "\n",
    "balanced_df.groupby(\"Q3 Theme1\").count()"
   ],
   "metadata": {
    "collapsed": false,
    "pycharm": {
     "name": "#%%\n"
    }
   }
  },
  {
   "cell_type": "code",
   "execution_count": 27,
   "outputs": [],
   "source": [],
   "metadata": {
    "collapsed": false,
    "pycharm": {
     "name": "#%%\n"
    }
   }
  },
  {
   "cell_type": "code",
   "execution_count": null,
   "outputs": [],
   "source": [],
   "metadata": {
    "collapsed": false,
    "pycharm": {
     "name": "#%%\n"
    }
   }
  }
 ],
 "metadata": {
  "kernelspec": {
   "name": "tf38_640",
   "language": "python",
   "display_name": "tf38_640"
  },
  "language_info": {
   "codemirror_mode": {
    "name": "ipython",
    "version": 2
   },
   "file_extension": ".py",
   "mimetype": "text/x-python",
   "name": "python",
   "nbconvert_exporter": "python",
   "pygments_lexer": "ipython2",
   "version": "2.7.6"
  }
 },
 "nbformat": 4,
 "nbformat_minor": 0
}